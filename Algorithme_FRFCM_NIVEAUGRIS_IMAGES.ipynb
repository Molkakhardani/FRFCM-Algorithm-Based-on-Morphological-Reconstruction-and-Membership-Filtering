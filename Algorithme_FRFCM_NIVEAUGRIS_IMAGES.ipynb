{
  "nbformat": 4,
  "nbformat_minor": 0,
  "metadata": {
    "colab": {
      "provenance": []
    },
    "kernelspec": {
      "name": "python3",
      "display_name": "Python 3"
    },
    "language_info": {
      "name": "python"
    }
  },
  "cells": [
    {
      "cell_type": "code",
      "execution_count": 1,
      "metadata": {
        "id": "NUACpPNT5e9o"
      },
      "outputs": [],
      "source": [
        "import numpy as np\n",
        "from skimage import morphology, color, filters, exposure\n",
        "from skimage.io import imread\n",
        "\n",
        "def initialize_membership(data, cluster_n):\n",
        "    # Initialize membership matrix with random values\n",
        "    U = np.random.rand(data.shape[0], cluster_n)\n",
        "    # Normalize each row to sum to 1\n",
        "    U /= np.sum(U, axis=1, keepdims=True)\n",
        "    return U\n",
        "\n",
        "def frfcm_c(data, cluster_n, radius, w_size, options=None):\n",
        "    if options is None:\n",
        "        options = [2, 100, 1e-5, 0]\n",
        "\n",
        "    expo, max_iter, min_impro, display = options\n",
        "\n",
        "    if expo <= 1:\n",
        "        raise ValueError(\"The exponent should be greater than 1!\")\n",
        "\n",
        "    # Step 1: Morphological reconstruction\n",
        "    selem = morphology.disk(radius)\n",
        "    reconstructed_data = morphology.reconstruction(data, data, method='dilation', selem=selem)\n",
        "\n",
        "    # Convert to grayscale if it's not already\n",
        "    if reconstructed_data.ndim == 3 and reconstructed_data.shape[2] == 3:\n",
        "        grayscale_data = color.rgb2gray(reconstructed_data)\n",
        "    else:\n",
        "        grayscale_data = reconstructed_data\n",
        "\n",
        "    # Step 2: Calculate histogram\n",
        "    hist, bin_edges = np.histogram(grayscale_data.ravel(), bins=256, range=(0, 1))\n",
        "    bin_centers = (bin_edges[:-1] + bin_edges[1:]) / 2\n",
        "    data_hist = np.vstack((bin_centers, hist)).T\n",
        "\n",
        "    # Initialize membership\n",
        "    U = initialize_membership(data_hist, cluster_n)\n",
        "\n",
        "    # Main loop\n",
        "    for i in range(max_iter):\n",
        "        mf = np.power(U, expo)\n",
        "\n",
        "        # Compute cluster centers\n",
        "        center = np.empty((cluster_n, data_hist.shape[1]))\n",
        "        for j in range(cluster_n):\n",
        "            numerator = np.sum(data_hist * mf[:, j][:, None], axis=0)\n",
        "            denominator = np.sum(mf[:, j]) + np.finfo(np.float64).eps\n",
        "            center[j, :] = numerator / denominator\n",
        "\n",
        "        # Compute distances and update objective function\n",
        "        dist = np.linalg.norm(data_hist[:, None, :] - center[None, :, :], axis=2)\n",
        "        obj_fcn = np.sum(dist ** 2 * mf)\n",
        "\n",
        "        # Update membership matrix\n",
        "        U_new = np.power(dist, -2 / (expo - 1))\n",
        "        U_new /= np.sum(U_new, axis=1)[:, None] + np.finfo(np.float64).eps\n",
        "\n",
        "        # Check for convergence\n",
        "        if i > 0 and np.max(np.abs(U_new - U)) < min_impro:\n",
        "            break\n",
        "        U = U_new\n",
        "\n",
        "    # Apply median filter to membership matrix\n",
        "    U_filtered = filters.median(U.reshape(-1, 256), selem=morphology.disk(w_size)).ravel()\n",
        "    U_normalized = U_filtered / (np.sum(U_filtered) + np.finfo(np.float64).eps)\n",
        "\n",
        "    # The cluster centers in the context of a histogram are just the bin centers weighted by the membership\n",
        "    center_values = np.sum(center[:, 0][:, None] * U_normalized, axis=0)\n",
        "\n",
        "    return center_values, U_normalized, obj_fcn, i\n"
      ]
    }
  ]
}